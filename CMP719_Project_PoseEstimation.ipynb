{
  "cells": [
    {
      "cell_type": "code",
      "execution_count": 10,
      "metadata": {
        "id": "zjBElCipnlRS"
      },
      "outputs": [
        {
          "name": "stdout",
          "output_type": "stream",
          "text": [
            "Note: you may need to restart the kernel to use updated packages.\n"
          ]
        }
      ],
      "source": [
        "\n",
        "#%pip install mediapipe==0.9.0.1 \n",
        "%pip install -q mediapipe==0.10.1\n"
      ]
    },
    {
      "cell_type": "code",
      "execution_count": 11,
      "metadata": {},
      "outputs": [
        {
          "name": "stdout",
          "output_type": "stream",
          "text": [
            "Requirement already satisfied: ipywidgets in c:\\users\\haith\\appdata\\local\\programs\\python\\python311\\lib\\site-packages (8.0.6)Note: you may need to restart the kernel to use updated packages.\n",
            "\n",
            "Requirement already satisfied: ipykernel>=4.5.1 in c:\\users\\haith\\appdata\\roaming\\python\\python311\\site-packages (from ipywidgets) (6.23.1)\n",
            "Requirement already satisfied: ipython>=6.1.0 in c:\\users\\haith\\appdata\\roaming\\python\\python311\\site-packages (from ipywidgets) (8.13.2)\n",
            "Requirement already satisfied: traitlets>=4.3.1 in c:\\users\\haith\\appdata\\roaming\\python\\python311\\site-packages (from ipywidgets) (5.9.0)\n",
            "Requirement already satisfied: widgetsnbextension~=4.0.7 in c:\\users\\haith\\appdata\\local\\programs\\python\\python311\\lib\\site-packages (from ipywidgets) (4.0.7)\n",
            "Requirement already satisfied: jupyterlab-widgets~=3.0.7 in c:\\users\\haith\\appdata\\local\\programs\\python\\python311\\lib\\site-packages (from ipywidgets) (3.0.7)\n",
            "Requirement already satisfied: comm>=0.1.1 in c:\\users\\haith\\appdata\\roaming\\python\\python311\\site-packages (from ipykernel>=4.5.1->ipywidgets) (0.1.3)\n",
            "Requirement already satisfied: debugpy>=1.6.5 in c:\\users\\haith\\appdata\\roaming\\python\\python311\\site-packages (from ipykernel>=4.5.1->ipywidgets) (1.6.7)\n",
            "Requirement already satisfied: jupyter-client>=6.1.12 in c:\\users\\haith\\appdata\\roaming\\python\\python311\\site-packages (from ipykernel>=4.5.1->ipywidgets) (8.2.0)\n",
            "Requirement already satisfied: jupyter-core!=5.0.*,>=4.12 in c:\\users\\haith\\appdata\\roaming\\python\\python311\\site-packages (from ipykernel>=4.5.1->ipywidgets) (5.3.0)\n",
            "Requirement already satisfied: matplotlib-inline>=0.1 in c:\\users\\haith\\appdata\\roaming\\python\\python311\\site-packages (from ipykernel>=4.5.1->ipywidgets) (0.1.6)\n",
            "Requirement already satisfied: nest-asyncio in c:\\users\\haith\\appdata\\roaming\\python\\python311\\site-packages (from ipykernel>=4.5.1->ipywidgets) (1.5.6)\n",
            "Requirement already satisfied: packaging in c:\\users\\haith\\appdata\\local\\programs\\python\\python311\\lib\\site-packages (from ipykernel>=4.5.1->ipywidgets) (21.3)\n",
            "Requirement already satisfied: psutil in c:\\users\\haith\\appdata\\roaming\\python\\python311\\site-packages (from ipykernel>=4.5.1->ipywidgets) (5.9.5)\n",
            "Requirement already satisfied: pyzmq>=20 in c:\\users\\haith\\appdata\\roaming\\python\\python311\\site-packages (from ipykernel>=4.5.1->ipywidgets) (25.0.2)\n",
            "Requirement already satisfied: tornado>=6.1 in c:\\users\\haith\\appdata\\roaming\\python\\python311\\site-packages (from ipykernel>=4.5.1->ipywidgets) (6.3.2)\n",
            "Requirement already satisfied: backcall in c:\\users\\haith\\appdata\\roaming\\python\\python311\\site-packages (from ipython>=6.1.0->ipywidgets) (0.2.0)\n",
            "Requirement already satisfied: decorator in c:\\users\\haith\\appdata\\local\\programs\\python\\python311\\lib\\site-packages (from ipython>=6.1.0->ipywidgets) (4.4.2)\n",
            "Requirement already satisfied: jedi>=0.16 in c:\\users\\haith\\appdata\\roaming\\python\\python311\\site-packages (from ipython>=6.1.0->ipywidgets) (0.18.2)\n",
            "Requirement already satisfied: pickleshare in c:\\users\\haith\\appdata\\roaming\\python\\python311\\site-packages (from ipython>=6.1.0->ipywidgets) (0.7.5)\n",
            "Requirement already satisfied: prompt-toolkit!=3.0.37,<3.1.0,>=3.0.30 in c:\\users\\haith\\appdata\\roaming\\python\\python311\\site-packages (from ipython>=6.1.0->ipywidgets) (3.0.38)\n",
            "Requirement already satisfied: pygments>=2.4.0 in c:\\users\\haith\\appdata\\roaming\\python\\python311\\site-packages (from ipython>=6.1.0->ipywidgets) (2.15.1)\n",
            "Requirement already satisfied: stack-data in c:\\users\\haith\\appdata\\roaming\\python\\python311\\site-packages (from ipython>=6.1.0->ipywidgets) (0.6.2)\n",
            "Requirement already satisfied: colorama in c:\\users\\haith\\appdata\\roaming\\python\\python311\\site-packages (from ipython>=6.1.0->ipywidgets) (0.4.6)\n",
            "Requirement already satisfied: parso<0.9.0,>=0.8.0 in c:\\users\\haith\\appdata\\roaming\\python\\python311\\site-packages (from jedi>=0.16->ipython>=6.1.0->ipywidgets) (0.8.3)\n",
            "Requirement already satisfied: python-dateutil>=2.8.2 in c:\\users\\haith\\appdata\\local\\programs\\python\\python311\\lib\\site-packages (from jupyter-client>=6.1.12->ipykernel>=4.5.1->ipywidgets) (2.8.2)\n",
            "Requirement already satisfied: platformdirs>=2.5 in c:\\users\\haith\\appdata\\roaming\\python\\python311\\site-packages (from jupyter-core!=5.0.*,>=4.12->ipykernel>=4.5.1->ipywidgets) (3.5.1)\n",
            "Requirement already satisfied: pywin32>=300 in c:\\users\\haith\\appdata\\roaming\\python\\python311\\site-packages (from jupyter-core!=5.0.*,>=4.12->ipykernel>=4.5.1->ipywidgets) (306)\n",
            "Requirement already satisfied: wcwidth in c:\\users\\haith\\appdata\\roaming\\python\\python311\\site-packages (from prompt-toolkit!=3.0.37,<3.1.0,>=3.0.30->ipython>=6.1.0->ipywidgets) (0.2.6)\n",
            "Requirement already satisfied: pyparsing!=3.0.5,>=2.0.2 in c:\\users\\haith\\appdata\\local\\programs\\python\\python311\\lib\\site-packages (from packaging->ipykernel>=4.5.1->ipywidgets) (3.0.9)\n",
            "Requirement already satisfied: executing>=1.2.0 in c:\\users\\haith\\appdata\\roaming\\python\\python311\\site-packages (from stack-data->ipython>=6.1.0->ipywidgets) (1.2.0)\n",
            "Requirement already satisfied: asttokens>=2.1.0 in c:\\users\\haith\\appdata\\roaming\\python\\python311\\site-packages (from stack-data->ipython>=6.1.0->ipywidgets) (2.2.1)\n",
            "Requirement already satisfied: pure-eval in c:\\users\\haith\\appdata\\roaming\\python\\python311\\site-packages (from stack-data->ipython>=6.1.0->ipywidgets) (0.2.2)\n",
            "Requirement already satisfied: six in c:\\users\\haith\\appdata\\local\\programs\\python\\python311\\lib\\site-packages (from asttokens>=2.1.0->stack-data->ipython>=6.1.0->ipywidgets) (1.16.0)\n"
          ]
        }
      ],
      "source": [
        "%pip install ipywidgets ## for using tqdm "
      ]
    },
    {
      "cell_type": "code",
      "execution_count": 12,
      "metadata": {
        "id": "j6XzxkhV1t-o"
      },
      "outputs": [],
      "source": [
        "#%pip install wget\n"
      ]
    },
    {
      "cell_type": "code",
      "execution_count": 13,
      "metadata": {},
      "outputs": [],
      "source": [
        "#%wget -q https://storage.googleapis.com/mediapipe-models/hand_landmarker/hand_landmarker/float16/1/hand_landmarker.task"
      ]
    },
    {
      "cell_type": "code",
      "execution_count": 2,
      "metadata": {
        "id": "DcPXvdjtn2eG"
      },
      "outputs": [],
      "source": [
        "import mediapipe as mp\n",
        "from mediapipe.tasks import python\n",
        "from mediapipe.tasks.python import vision\n",
        "\n",
        "import cv2\n",
        "\n",
        "import numpy as np\n",
        "import pandas as pd\n",
        "import os\n",
        "import shutil\n",
        "from tqdm.notebook import tqdm"
      ]
    },
    {
      "attachments": {},
      "cell_type": "markdown",
      "metadata": {
        "id": "KndaFfYKMILH"
      },
      "source": []
    },
    {
      "cell_type": "code",
      "execution_count": 15,
      "metadata": {},
      "outputs": [
        {
          "name": "stdout",
          "output_type": "stream",
          "text": [
            "Requirement already satisfied: pyarrow in c:\\users\\haith\\appdata\\local\\programs\\python\\python311\\lib\\site-packages (12.0.1)\n",
            "Requirement already satisfied: fastparquet in c:\\users\\haith\\appdata\\local\\programs\\python\\python311\\lib\\site-packages (2023.4.0)\n",
            "Requirement already satisfied: numpy>=1.16.6 in c:\\users\\haith\\appdata\\local\\programs\\python\\python311\\lib\\site-packages (from pyarrow) (1.23.4)\n",
            "Requirement already satisfied: pandas>=1.5.0 in c:\\users\\haith\\appdata\\local\\programs\\python\\python311\\lib\\site-packages (from fastparquet) (2.0.1)\n",
            "Requirement already satisfied: cramjam>=2.3 in c:\\users\\haith\\appdata\\local\\programs\\python\\python311\\lib\\site-packages (from fastparquet) (2.6.2)\n",
            "Requirement already satisfied: fsspec in c:\\users\\haith\\appdata\\local\\programs\\python\\python311\\lib\\site-packages (from fastparquet) (2023.6.0)\n",
            "Requirement already satisfied: packaging in c:\\users\\haith\\appdata\\local\\programs\\python\\python311\\lib\\site-packages (from fastparquet) (21.3)\n",
            "Requirement already satisfied: python-dateutil>=2.8.2 in c:\\users\\haith\\appdata\\local\\programs\\python\\python311\\lib\\site-packages (from pandas>=1.5.0->fastparquet) (2.8.2)\n",
            "Requirement already satisfied: pytz>=2020.1 in c:\\users\\haith\\appdata\\local\\programs\\python\\python311\\lib\\site-packages (from pandas>=1.5.0->fastparquet) (2023.3)\n",
            "Requirement already satisfied: tzdata>=2022.1 in c:\\users\\haith\\appdata\\local\\programs\\python\\python311\\lib\\site-packages (from pandas>=1.5.0->fastparquet) (2023.3)\n",
            "Requirement already satisfied: pyparsing!=3.0.5,>=2.0.2 in c:\\users\\haith\\appdata\\local\\programs\\python\\python311\\lib\\site-packages (from packaging->fastparquet) (3.0.9)\n",
            "Requirement already satisfied: six>=1.5 in c:\\users\\haith\\appdata\\local\\programs\\python\\python311\\lib\\site-packages (from python-dateutil>=2.8.2->pandas>=1.5.0->fastparquet) (1.16.0)\n",
            "Note: you may need to restart the kernel to use updated packages.\n"
          ]
        }
      ],
      "source": [
        "%pip install pyarrow fastparquet"
      ]
    },
    {
      "cell_type": "code",
      "execution_count": 11,
      "metadata": {
        "colab": {
          "base_uri": "https://localhost:8080/"
        },
        "id": "ju62QKGFUJvm",
        "outputId": "62185207-503b-4b31-cce7-c1f0d71fe23c"
      },
      "outputs": [
        {
          "data": {
            "application/vnd.jupyter.widget-view+json": {
              "model_id": "37546254879e42039fd34a948357a263",
              "version_major": 2,
              "version_minor": 0
            },
            "text/plain": [
              "  0%|          | 0/11 [00:00<?, ?it/s]"
            ]
          },
          "metadata": {},
          "output_type": "display_data"
        }
      ],
      "source": [
        "# code to generate dataset\n",
        "HandLandmarkerOptions = mp.tasks.vision.HandLandmarkerOptions\n",
        "VisionRunningMode = mp.tasks.vision.RunningMode\n",
        "base_options = python.BaseOptions(model_asset_path='hand_landmarker.task')\n",
        "options = vision.HandLandmarkerOptions(base_options=base_options,\n",
        "                                       num_hands=2,running_mode=VisionRunningMode.VIDEO)\n",
        "\n",
        "\n",
        "\n",
        "#mp_holistic = mp.solutions.holistic\n",
        "vid_dir  =  './AUTSL_dataset/train'\n",
        "keyP_dir = './AUTSL_dataset/train_keypoints'\n",
        "for i, filename in enumerate(tqdm(os.listdir(vid_dir))):\n",
        "\tif filename != \"treated\":\n",
        "\t\told_file = f\"{vid_dir}/{filename}\"\n",
        "\t\tdestination = f'{vid_dir}/treated/'\n",
        "\t\tif  os.path.exists(destination+filename):\n",
        "\t\t\t\n",
        "\t\t\tcontinue\n",
        "\t\telse:\n",
        "\t\t\tprint(destination+filename)\n",
        "\t\t\tshutil.copy(old_file, destination)\t\n",
        "\n",
        "\t\n",
        "\n",
        "\tcap = cv2.VideoCapture(f\"{vid_dir}/treated/{filename}\")\n",
        "\tdetector = vision.HandLandmarker.create_from_options(options)\n",
        "\t#fps = cap.get(cv2.CAP_PROP_FPS)\n",
        "\t#holistic = mp_holistic.Holistic(min_detection_confidence=0.5, min_tracking_confidence=0.1)\n",
        "\n",
        "\n",
        "\n",
        "\tvideo_df = []\n",
        "\tframe_no=0\n",
        "\tdata = []\n",
        "\ttimestamp_ms = 0\n",
        "\n",
        "\t\t#fy = height/width\n",
        "\tfor i in range(21):\n",
        "\t\t\tdata.append({\n",
        "\t\t\t\t\t'type': 'left_hand',\n",
        "\t\t\t\t\t'landmark_index': i,\n",
        "\t\t\t\t\t'x': np.nan,\n",
        "\t\t\t\t\t'y': np.nan,\n",
        "\t\t\t\t\t'z': np.nan,\n",
        "\t\t\t\t})\n",
        "\tfor i in range(21,42):\n",
        "\t\t\tdata.append({\n",
        "\t\t\t\t\t'type': 'right_hand',\n",
        "\t\t\t\t\t'landmark_index': i,\n",
        "\t\t\t\t\t'x': np.nan,\n",
        "\t\t\t\t\t'y': np.nan,\n",
        "\t\t\t\t\t'z': np.nan,\n",
        "\t\t\t\t})\n",
        "\n",
        "\twhile cap.isOpened():\n",
        "\t\t#print('\\r',frame_no,end='')\n",
        "\t\tsuccess, frame = cap.read()\n",
        "\n",
        "\t\tif not success: break\n",
        "\t\t# Calculate the timestamp for the current frame in millisecond\n",
        "\t\ttimestamp_ms = int(cap.get(cv2.CAP_PROP_POS_MSEC))\n",
        "\t\tframe = cv2.resize(frame, (224,224))\n",
        "\t\theight,width,_ = frame.shape\n",
        "\n",
        "\t\t#print('\\n',timestamp_ms)\n",
        "\t\t#print(frame.shape)\n",
        "\t\t#frame.flags.writeable = False\n",
        "\t\tframe_rgb = cv2.cvtColor(frame, cv2.COLOR_BGR2RGB)\n",
        "\t\t#result = holistic.process(frame_rgb)\n",
        "\t\tmp_image = mp.Image(image_format=mp.ImageFormat.SRGB, data=frame_rgb)\n",
        "\t\tresult = detector.detect_for_video(mp_image,timestamp_ms)\n",
        "\t\t#print(result)\n",
        "\n",
        "\n",
        "\n",
        "\t\thand_landmarks_list = result.hand_landmarks\n",
        "\t\thandedness_list = result.handedness\n",
        "\t\t# Loop through the detected hands\n",
        "\t\ti = 0\n",
        "\t\tfor idx in range(len(hand_landmarks_list)):\n",
        "\t\t\thand_landmarks = hand_landmarks_list[idx]\n",
        "\t\t\thandedness = handedness_list[idx]\n",
        "\n",
        "\t\t\tfor landmark in hand_landmarks:  #\n",
        "\t\t\t\tdata[i]['x'] = landmark.x\n",
        "\t\t\t\tdata[i]['y'] = landmark.y\n",
        "\t\t\t\tdata[i]['z'] = landmark.z\n",
        "\t\t\t\t#data[i]['confidence'] = landmark.visibility\n",
        "\t\t\t\ti+=1\n",
        "\t\t\t\t#print(data)\n",
        "\t\t\t#for categories in handedness:\n",
        "\t\t\t\t#print (landmark.x,landmark.y)\n",
        "\n",
        "\n",
        "\t\tframe_df = pd.DataFrame(data)\n",
        "\t\tframe_df.loc[:,'frame'] =  frame_no\n",
        "\t\tframe_df.loc[:, 'height'] = height/width\n",
        "\t\tframe_df.loc[:, 'width'] = width/width\n",
        "\t\tvideo_df.append(frame_df)\n",
        "\t\t\n",
        "\n",
        "\t\t#=========================\n",
        "\t\tframe_no +=1\n",
        "\t\n",
        "\tif frame_no != 0:\n",
        "\t\n",
        "\t\tvideo_df = pd.concat(video_df)\n",
        "\t\t#print(video_df)\n",
        "\t\t#holistic.close()\n",
        "\t\tvideo_df.to_parquet( f\"{keyP_dir}/{filename}.to_parquet\")\n",
        "\t\told_file = f\"{vid_dir}/{filename}\"\n",
        "\t\tos.remove(old_file)\n",
        "\t\n"
      ]
    },
    {
      "attachments": {},
      "cell_type": "markdown",
      "metadata": {},
      "source": []
    }
  ],
  "metadata": {
    "accelerator": "GPU",
    "colab": {
      "gpuType": "T4",
      "provenance": []
    },
    "gpuClass": "standard",
    "kernelspec": {
      "display_name": "Python 3",
      "name": "python3"
    },
    "language_info": {
      "codemirror_mode": {
        "name": "ipython",
        "version": 3
      },
      "file_extension": ".py",
      "mimetype": "text/x-python",
      "name": "python",
      "nbconvert_exporter": "python",
      "pygments_lexer": "ipython3",
      "version": "3.11.0"
    }
  },
  "nbformat": 4,
  "nbformat_minor": 0
}
